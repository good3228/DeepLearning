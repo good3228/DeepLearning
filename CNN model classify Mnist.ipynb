{
 "cells": [
  {
   "cell_type": "markdown",
   "metadata": {},
   "source": [
    "# Using CNN model to classify Mnist"
   ]
  },
  {
   "cell_type": "code",
   "execution_count": 243,
   "metadata": {},
   "outputs": [],
   "source": [
    "import numpy as np\n",
    "import cv2\n",
    "import glob\n",
    "import matplotlib.pyplot as plt\n",
    "from keras.models import Sequential\n",
    "from keras.layers import Dense, Dropout, Activation, Flatten\n",
    "from keras.layers import Conv2D, MaxPooling2D\n",
    "from sklearn.preprocessing import OneHotEncoder\n",
    "from keras.layers import BatchNormalization"
   ]
  },
  {
   "cell_type": "code",
   "execution_count": 233,
   "metadata": {},
   "outputs": [],
   "source": [
    "def accuracy(x,y):\n",
    "    acc = 0\n",
    "    for i in range(len(x)):\n",
    "        if x[i,]==y[i,]:\n",
    "            acc+=1\n",
    "        else:\n",
    "            acc+=0\n",
    "    rate = acc/len(x)\n",
    "    print('Accuracy rate is: ',rate)\n",
    "def plot(image,ans):\n",
    "    if len(image) > 10 | len(ans) > 10:\n",
    "        print('TOO MANY PHOTOS IN ONE TIME!!')\n",
    "        print('The maximum is 10 photos')\n",
    "    for i in range(len(image)):\n",
    "        plt.subplot(2,5,i+1)\n",
    "        plt.imshow(image[i,...])\n",
    "        plt.title(ans[i])\n",
    "def import_image(path):\n",
    "    folders = glob.glob(path)\n",
    "    imagenames_list = []\n",
    "    for folder in folders:\n",
    "        for f in glob.glob(folder+'/*.png'):\n",
    "            imagenames_list.append(f)\n",
    "    read_images = []        \n",
    "    for image in imagenames_list:\n",
    "        read_images.append(cv2.imread(image))\n",
    "    print('The name of output is: read_images')"
   ]
  },
  {
   "cell_type": "code",
   "execution_count": 234,
   "metadata": {},
   "outputs": [
    {
     "name": "stdout",
     "output_type": "stream",
     "text": [
      "The name of output is: read_images\n"
     ]
    }
   ],
   "source": [
    "import_image('C://Users//jim19//Downloads//training//training')"
   ]
  },
  {
   "cell_type": "code",
   "execution_count": 235,
   "metadata": {
    "scrolled": true
   },
   "outputs": [
    {
     "name": "stdout",
     "output_type": "stream",
     "text": [
      "Shape of x_train is (32000,28,28,3)\n",
      "Shape of x_test is (8000,28,28,3)\n",
      "Shape of y_train is (32000,1)\n",
      "Shape of y_test is (8000,1)\n"
     ]
    },
    {
     "name": "stderr",
     "output_type": "stream",
     "text": [
      "C:\\Users\\jim19\\Anaconda3\\lib\\site-packages\\sklearn\\preprocessing\\_encoders.py:415: FutureWarning: The handling of integer data will change in version 0.22. Currently, the categories are determined based on the range [0, max(values)], while in the future they will be determined based on the unique values.\n",
      "If you want the future behaviour and silence this warning, you can specify \"categories='auto'\".\n",
      "In case you used a LabelEncoder before this OneHotEncoder to convert the categories to integers, then you can now use the OneHotEncoder directly.\n",
      "  warnings.warn(msg, FutureWarning)\n"
     ]
    }
   ],
   "source": [
    "x = read_images\n",
    "split = np.random.choice(40000,8000,replace=False)\n",
    "x_test = x[split,:,:,:]\n",
    "x_train = np.delete(x,split,axis=0)\n",
    "y = np.array(np.repeat(range(10),4000).reshape(-1,1))\n",
    "y_test = y[split,:]\n",
    "y_train = np.delete(y,split,axis=0)\n",
    "\n",
    "print('Shape of x_train is (%d,%d,%d,%d)'%(x_train.shape))\n",
    "print('Shape of x_test is (%d,%d,%d,%d)'%(x_test.shape))\n",
    "print('Shape of y_train is (%d,%d)'%(y_train.shape))\n",
    "print('Shape of y_test is (%d,%d)'%(y_test.shape))\n",
    "\n",
    "onehot = OneHotEncoder()\n",
    "y_train = onehot.fit_transform(y_train).toarray()"
   ]
  },
  {
   "cell_type": "code",
   "execution_count": 236,
   "metadata": {},
   "outputs": [
    {
     "name": "stderr",
     "output_type": "stream",
     "text": [
      "C:\\Users\\jim19\\Anaconda3\\lib\\site-packages\\ipykernel_launcher.py:9: UserWarning: Update your `Dense` call to the Keras 2 API: `Dense(activation=\"softmax\", units=10)`\n",
      "  if __name__ == '__main__':\n"
     ]
    },
    {
     "name": "stdout",
     "output_type": "stream",
     "text": [
      "Model: \"sequential_11\"\n",
      "_________________________________________________________________\n",
      "Layer (type)                 Output Shape              Param #   \n",
      "=================================================================\n",
      "conv2d_14 (Conv2D)           (None, 26, 26, 32)        896       \n",
      "_________________________________________________________________\n",
      "batch_normalization_6 (Batch (None, 26, 26, 32)        128       \n",
      "_________________________________________________________________\n",
      "max_pooling2d_10 (MaxPooling (None, 13, 13, 32)        0         \n",
      "_________________________________________________________________\n",
      "conv2d_15 (Conv2D)           (None, 11, 11, 64)        18496     \n",
      "_________________________________________________________________\n",
      "max_pooling2d_11 (MaxPooling (None, 5, 5, 64)          0         \n",
      "_________________________________________________________________\n",
      "flatten_5 (Flatten)          (None, 1600)              0         \n",
      "_________________________________________________________________\n",
      "dense_11 (Dense)             (None, 50)                80050     \n",
      "_________________________________________________________________\n",
      "dense_12 (Dense)             (None, 10)                510       \n",
      "=================================================================\n",
      "Total params: 100,080\n",
      "Trainable params: 100,016\n",
      "Non-trainable params: 64\n",
      "_________________________________________________________________\n",
      "Epoch 1/1\n",
      "32000/32000 [==============================] - 58s 2ms/step - loss: 0.2201 - accuracy: 0.9314\n"
     ]
    },
    {
     "data": {
      "text/plain": [
       "<keras.callbacks.callbacks.History at 0x18a91bd3ac8>"
      ]
     },
     "execution_count": 236,
     "metadata": {},
     "output_type": "execute_result"
    }
   ],
   "source": [
    "model = Sequential()\n",
    "model.add(Conv2D(32,(3,3),input_shape = (28,28,3)))\n",
    "model.add(BatchNormalization())\n",
    "model.add(MaxPooling2D((2,2)))\n",
    "model.add(Conv2D(64,(3,3)))\n",
    "model.add(MaxPooling2D())\n",
    "model.add(Flatten())\n",
    "model.add(Dense(50,activation = 'relu'))\n",
    "model.add(Dense(output_dim = 10,activation = 'softmax'))\n",
    "\n",
    "model.summary()\n",
    "model.compile(optimizer = 'Adam',loss = 'categorical_crossentropy',metrics = ['accuracy'])\n",
    "model.fit(x_train,y_train,batch_size = 100,epochs = 10)"
   ]
  },
  {
   "cell_type": "code",
   "execution_count": 240,
   "metadata": {
    "scrolled": true
   },
   "outputs": [
    {
     "name": "stdout",
     "output_type": "stream",
     "text": [
      "Accuracy rate is:  0.970875\n"
     ]
    }
   ],
   "source": [
    "prediction = np.argmax(model.predict(x_test),axis=1)\n",
    "accuracy(prediction,y_test)  "
   ]
  },
  {
   "cell_type": "code",
   "execution_count": 242,
   "metadata": {
    "scrolled": true
   },
   "outputs": [
    {
     "data": {
      "image/png": "[encoded data removed]",
      "text/plain": [
       "<Figure size 432x288 with 10 Axes>"
      ]
     },
     "metadata": {
      "needs_background": "light"
     },
     "output_type": "display_data"
    }
   ],
   "source": [
    "plot(x_test[0:10],prediction[0:10])"
   ]
  }
 ],
 "metadata": {
  "kernelspec": {
   "display_name": "Python 3",
   "language": "python",
   "name": "python3"
  },
  "language_info": {
   "codemirror_mode": {
    "name": "ipython",
    "version": 3
   },
   "file_extension": ".py",
   "mimetype": "text/x-python",
   "name": "python",
   "nbconvert_exporter": "python",
   "pygments_lexer": "ipython3",
   "version": "3.7.4"
  }
 },
 "nbformat": 4,
 "nbformat_minor": 2
}
